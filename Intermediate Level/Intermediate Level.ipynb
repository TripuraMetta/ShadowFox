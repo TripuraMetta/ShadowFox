{
 "cells": [
  {
   "cell_type": "code",
   "execution_count": 1,
   "id": "0ca1ac0f-8ba0-4a82-b50f-0dafa89cc20b",
   "metadata": {},
   "outputs": [],
   "source": [
    "#1.Web Scraping"
   ]
  },
  {
   "cell_type": "code",
   "execution_count": 7,
   "id": "e83ababb-1786-4aec-983e-c848f3b39530",
   "metadata": {},
   "outputs": [
    {
     "name": "stdout",
     "output_type": "stream",
     "text": [
      "✅ Book data saved to 'books.csv'.\n"
     ]
    }
   ],
   "source": [
    "import requests\n",
    "from bs4 import BeautifulSoup\n",
    "import pandas as pd\n",
    "\n",
    "def scrape_books():\n",
    "    url = \"https://books.toscrape.com/\"\n",
    "    response = requests.get(url)\n",
    "    soup = BeautifulSoup(response.content, \"html.parser\")\n",
    "\n",
    "    books = soup.find_all(\"article\", class_=\"product_pod\")\n",
    "    data = []\n",
    "\n",
    "    for book in books:\n",
    "        title = book.h3.a[\"title\"]\n",
    "        price = book.find(\"p\", class_=\"price_color\").text.strip()\n",
    "        availability = book.find(\"p\", class_=\"instock availability\").text.strip()\n",
    "\n",
    "        data.append({\n",
    "            \"Title\": title,\n",
    "            \"Price\": price,\n",
    "            \"Availability\": availability\n",
    "        })\n",
    "\n",
    "    # Save to CSV\n",
    "    df = pd.DataFrame(data)\n",
    "    df.to_csv(\"books.csv\", index=False, encoding='utf-8-sig')\n",
    "    print(\"✅ Book data saved to 'books.csv'.\")\n",
    "\n",
    "scrape_books()"
   ]
  },
  {
   "cell_type": "code",
   "execution_count": 3,
   "id": "cb0f1ae3-fac1-463c-a39b-b438be98738e",
   "metadata": {},
   "outputs": [],
   "source": [
    "# 2. Hangman Game"
   ]
  },
  {
   "cell_type": "code",
   "execution_count": 4,
   "id": "74957bde-66f7-4c48-b22f-6a6a41c8693f",
   "metadata": {},
   "outputs": [
    {
     "name": "stdout",
     "output_type": "stream",
     "text": [
      "Welcome to Hangman!\n"
     ]
    },
    {
     "name": "stdin",
     "output_type": "stream",
     "text": [
      "Choose difficulty (easy / medium / hard):  easy\n"
     ]
    },
    {
     "name": "stdout",
     "output_type": "stream",
     "text": [
      "Hint: A common pet\n",
      "\n",
      "Word: _ _ _\n",
      "Attempts left: 6\n",
      "Used letters: \n"
     ]
    },
    {
     "name": "stdin",
     "output_type": "stream",
     "text": [
      "Guess a letter:  g\n"
     ]
    },
    {
     "name": "stdout",
     "output_type": "stream",
     "text": [
      "❌ Wrong!\n",
      "\n",
      "Word: _ _ _\n",
      "Attempts left: 5\n",
      "Used letters: g\n"
     ]
    },
    {
     "name": "stdin",
     "output_type": "stream",
     "text": [
      "Guess a letter:  c\n"
     ]
    },
    {
     "name": "stdout",
     "output_type": "stream",
     "text": [
      "✅ Correct!\n",
      "\n",
      "Word: c _ _\n",
      "Attempts left: 5\n",
      "Used letters: g, c\n"
     ]
    },
    {
     "name": "stdin",
     "output_type": "stream",
     "text": [
      "Guess a letter:  a\n"
     ]
    },
    {
     "name": "stdout",
     "output_type": "stream",
     "text": [
      "✅ Correct!\n",
      "\n",
      "Word: c a _\n",
      "Attempts left: 5\n",
      "Used letters: g, c, a\n"
     ]
    },
    {
     "name": "stdin",
     "output_type": "stream",
     "text": [
      "Guess a letter:  t\n"
     ]
    },
    {
     "name": "stdout",
     "output_type": "stream",
     "text": [
      "✅ Correct!\n",
      "\n",
      "Final word: cat\n",
      "🎉 You won!\n"
     ]
    }
   ],
   "source": [
    "import random\n",
    "\n",
    "def play_hangman():\n",
    "    easy = [\n",
    "        {\"word\": \"cat\", \"hint\": \"A common pet\"},\n",
    "        {\"word\": \"car\", \"hint\": \"Has wheels and engine\"},\n",
    "        {\"word\": \"sun\", \"hint\": \"Bright and hot\"}\n",
    "    ]\n",
    "    medium = [\n",
    "        {\"word\": \"guitar\", \"hint\": \"A musical instrument\"},\n",
    "        {\"word\": \"school\", \"hint\": \"Place for learning\"},\n",
    "        {\"word\": \"planet\", \"hint\": \"Orbits a star\"}\n",
    "    ]\n",
    "    hard = [\n",
    "        {\"word\": \"python\", \"hint\": \"A programming language\"},\n",
    "        {\"word\": \"elephant\", \"hint\": \"Large land animal\"},\n",
    "        {\"word\": \"dinosaur\", \"hint\": \"Extinct reptile\"}\n",
    "    ]\n",
    "\n",
    "    print(\"Welcome to Hangman!\")\n",
    "    level = input(\"Choose difficulty (easy / medium / hard): \").lower()\n",
    "\n",
    "    if level == \"easy\":\n",
    "        words = easy\n",
    "    elif level == \"medium\":\n",
    "        words = medium\n",
    "    elif level == \"hard\":\n",
    "        words = hard\n",
    "    else:\n",
    "        print(\"Invalid input. Defaulting to medium.\")\n",
    "        words = medium\n",
    "\n",
    "    chosen = random.choice(words)\n",
    "    word = chosen[\"word\"]\n",
    "    hint = chosen[\"hint\"]\n",
    "    guessed = [\"_\"] * len(word)\n",
    "    attempts = 6\n",
    "    used_letters = []\n",
    "\n",
    "    print(\"Hint:\", hint)\n",
    "\n",
    "    while attempts > 0 and \"_\" in guessed:\n",
    "        print(\"\\nWord:\", \" \".join(guessed))\n",
    "        print(\"Attempts left:\", attempts)\n",
    "        print(\"Used letters:\", \", \".join(used_letters))\n",
    "        guess = input(\"Guess a letter: \").lower()\n",
    "\n",
    "        if not guess or len(guess) != 1 or not guess.isalpha():\n",
    "            print(\"Enter a single alphabet only.\")\n",
    "            continue\n",
    "\n",
    "        if guess in used_letters:\n",
    "            print(\"Already guessed.\")\n",
    "            continue\n",
    "\n",
    "        used_letters.append(guess)\n",
    "\n",
    "        if guess in word:\n",
    "            for i, char in enumerate(word):\n",
    "                if char == guess:\n",
    "                    guessed[i] = guess\n",
    "            print(\"✅ Correct!\")\n",
    "        else:\n",
    "            attempts -= 1\n",
    "            print(\"❌ Wrong!\")\n",
    "\n",
    "    print(\"\\nFinal word:\", word)\n",
    "    if \"_\" not in guessed:\n",
    "        print(\"🎉 You won!\")\n",
    "    else:\n",
    "        print(\"😢 You lost!\")\n",
    "\n",
    "play_hangman()"
   ]
  },
  {
   "cell_type": "code",
   "execution_count": 5,
   "id": "49234766-1875-40c0-a589-e7c5db651700",
   "metadata": {},
   "outputs": [],
   "source": [
    "# Hangman Game (Alternative)"
   ]
  },
  {
   "cell_type": "code",
   "execution_count": 6,
   "id": "e1fd6022-08ea-4edd-8294-696f568094fc",
   "metadata": {},
   "outputs": [],
   "source": [
    "import tkinter as tk\n",
    "import random\n",
    "\n",
    "words = {\n",
    "    \"easy\": [(\"apple\", \"A fruit\", \"Fruits\"), (\"cat\", \"A pet animal\", \"Animals\"), (\"sun\", \"It shines\", \"Nature\")],\n",
    "    \"medium\": [(\"python\", \"Programming language\", \"Technology\"), (\"guitar\", \"Musical instrument\", \"Music\"), (\"planet\", \"Part of solar system\", \"Space\")],\n",
    "    \"hard\": [(\"microscope\", \"Used in laboratories\", \"Science\"), (\"philosophy\", \"Study of knowledge\", \"Subjects\"), (\"democracy\", \"Form of government\", \"Politics\")]\n",
    "}\n",
    "\n",
    "chosen_word = \"\"\n",
    "display_word = []\n",
    "wrong_guesses = 0\n",
    "max_wrong = 6\n",
    "guessed_letters = []\n",
    "hint_text = \"\"\n",
    "category_text = \"\"\n",
    "\n",
    "root = tk.Tk()\n",
    "root.title(\"Hangman Game - Improved\")\n",
    "root.geometry(\"600x600\")\n",
    "root.resizable(False, False)\n",
    "\n",
    "canvas = tk.Canvas(root, width=400, height=300, bg=\"white\")\n",
    "canvas.pack(pady=10)\n",
    "\n",
    "# UI labels\n",
    "category_label = tk.Label(root, text=\"\", font=(\"Arial\", 14, \"bold\"))\n",
    "category_label.pack()\n",
    "\n",
    "word_label = tk.Label(root, text=\"\", font=(\"Arial\", 20))\n",
    "word_label.pack(pady=5)\n",
    "\n",
    "hint_label = tk.Label(root, text=\"\", font=(\"Arial\", 12))\n",
    "hint_label.pack()\n",
    "\n",
    "status_label = tk.Label(root, text=\"\", font=(\"Arial\", 14, \"bold\"))\n",
    "status_label.pack(pady=10)\n",
    "\n",
    "entry_frame = tk.Frame(root)\n",
    "entry_frame.pack()\n",
    "\n",
    "entry = tk.Entry(entry_frame, font=(\"Arial\", 16), width=5, justify='center')\n",
    "entry.grid(row=0, column=0, padx=5)\n",
    "entry.bind(\"<Return>\", lambda event: check_guess(entry.get().lower()))  # Enter key handling\n",
    "\n",
    "\n",
    "submit_btn = tk.Button(entry_frame, text=\"Submit\", font=(\"Arial\", 12), command=lambda: check_guess(entry.get().lower()))\n",
    "submit_btn.grid(row=0, column=1, padx=5)\n",
    "\n",
    "reset_btn = tk.Button(root, text=\"Play Again\", font=(\"Arial\", 12), command=lambda: start_game(difficulty_var.get()))\n",
    "reset_btn.pack(pady=5)\n",
    "\n",
    "difficulty_var = tk.StringVar(value=\"easy\")\n",
    "difficulty_menu = tk.OptionMenu(root, difficulty_var, \"easy\", \"medium\", \"hard\")\n",
    "difficulty_menu.pack()\n",
    "\n",
    "# --- Drawing ---\n",
    "\n",
    "def draw_base():\n",
    "    canvas.delete(\"all\")\n",
    "    canvas.create_line(50, 250, 150, 250)     # Base\n",
    "    canvas.create_line(100, 250, 100, 50)     # Vertical\n",
    "    canvas.create_line(100, 50, 200, 50)      # Top bar\n",
    "    canvas.create_line(200, 50, 200, 70, tags=\"rope\")   # Rope\n",
    "\n",
    "def draw_stickman_part(wrong):\n",
    "    parts = {\n",
    "        1: canvas.create_oval(180, 70, 220, 110, width=2, tags=\"head\"),\n",
    "        2: canvas.create_line(200, 110, 200, 170, width=2, tags=\"body\"),\n",
    "        3: canvas.create_line(200, 130, 170, 150, width=2, tags=\"left_arm\"),\n",
    "        4: canvas.create_line(200, 130, 230, 150, width=2, tags=\"right_arm\"),\n",
    "        5: canvas.create_line(200, 170, 170, 210, width=2, tags=\"left_leg\"),\n",
    "        6: canvas.create_line(200, 170, 230, 210, width=2, tags=\"right_leg\")\n",
    "    }\n",
    "\n",
    "def stickman_safe_slide():\n",
    "    parts = [\"head\", \"body\", \"left_arm\", \"right_arm\", \"left_leg\", \"right_leg\"]\n",
    "    target_bottom = 250  # Final Y where bottom of stickman (legs) should align\n",
    "\n",
    "    def slide():\n",
    "        all_coords = [canvas.coords(part) for part in parts if canvas.coords(part)]\n",
    "        current_bottom = max((coord[3] if len(coord) > 3 else coord[1]) for coord in all_coords)\n",
    "\n",
    "        if current_bottom < target_bottom:\n",
    "            for part in parts:\n",
    "                if canvas.coords(part):\n",
    "                    canvas.move(part, 0, 3)  # smooth but slower\n",
    "            root.after(40, slide)\n",
    "        else:\n",
    "            canvas.create_text(200, 260, text=\"🎉 Landed Safely!\", font=(\"Arial\", 14), fill=\"green\")\n",
    "            status_label.config(text=\"✅ You Won!\", fg=\"green\")\n",
    "\n",
    "    slide()\n",
    "\n",
    "\n",
    "# --- Logic ---\n",
    "\n",
    "def start_game(difficulty):\n",
    "    global chosen_word, display_word, wrong_guesses, guessed_letters, hint_text, category_text\n",
    "    draw_base()\n",
    "    wrong_guesses = 0\n",
    "    guessed_letters = []\n",
    "    \n",
    "    word, hint_text, category_text = random.choice(words[difficulty])\n",
    "    chosen_word = word\n",
    "    display_word = [\"_\" for _ in chosen_word]\n",
    "\n",
    "    word_label.config(text=\" \".join(display_word))\n",
    "    hint_label.config(text=f\"Hint: {hint_text}\")\n",
    "    category_label.config(text=f\"Category: {category_text}\")\n",
    "    status_label.config(text=\"\", fg=\"black\")\n",
    "    entry.delete(0, tk.END)\n",
    "\n",
    "def check_guess(letter):\n",
    "    global wrong_guesses\n",
    "    entry.delete(0, tk.END)\n",
    "\n",
    "    if not letter.isalpha() or len(letter) != 1:\n",
    "        status_label.config(text=\"Enter a single letter.\", fg=\"red\")\n",
    "        return\n",
    "\n",
    "    if letter in guessed_letters:\n",
    "        status_label.config(text=\"Already guessed!\", fg=\"orange\")\n",
    "        return\n",
    "\n",
    "    guessed_letters.append(letter)\n",
    "\n",
    "    if letter in chosen_word:\n",
    "        for idx, char in enumerate(chosen_word):\n",
    "            if char == letter:\n",
    "                display_word[idx] = letter\n",
    "        word_label.config(text=\" \".join(display_word))\n",
    "        if \"_\" not in display_word:\n",
    "            stickman_safe_slide()\n",
    "    else:\n",
    "        wrong_guesses += 1\n",
    "        draw_stickman_part(wrong_guesses)\n",
    "        if wrong_guesses >= max_wrong:\n",
    "            word_label.config(text=\" \".join(chosen_word))\n",
    "            status_label.config(text=\"❌ You Lost!\", fg=\"red\")\n",
    "\n",
    "# Start game\n",
    "start_game(difficulty_var.get())\n",
    "root.mainloop()"
   ]
  },
  {
   "cell_type": "code",
   "execution_count": null,
   "id": "1f483c5a-2857-4620-9dd3-c9080b6e24d4",
   "metadata": {},
   "outputs": [],
   "source": []
  }
 ],
 "metadata": {
  "kernelspec": {
   "display_name": "Python 3 (ipykernel)",
   "language": "python",
   "name": "python3"
  },
  "language_info": {
   "codemirror_mode": {
    "name": "ipython",
    "version": 3
   },
   "file_extension": ".py",
   "mimetype": "text/x-python",
   "name": "python",
   "nbconvert_exporter": "python",
   "pygments_lexer": "ipython3",
   "version": "3.11.9"
  }
 },
 "nbformat": 4,
 "nbformat_minor": 5
}
