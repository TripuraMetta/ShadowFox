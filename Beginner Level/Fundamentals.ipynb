{
 "cells": [
  {
   "cell_type": "code",
   "execution_count": null,
   "id": "522010f3-54ab-46df-8739-ee5e9ae32281",
   "metadata": {},
   "outputs": [],
   "source": [
    "# 1. VARIABLES"
   ]
  },
  {
   "cell_type": "code",
   "execution_count": 1,
   "id": "b03b9f78-b237-463e-9dba-86a901b4413b",
   "metadata": {},
   "outputs": [
    {
     "name": "stdout",
     "output_type": "stream",
     "text": [
      "<class 'float'>\n"
     ]
    }
   ],
   "source": [
    "# 1. Create a variable named pi and store the value 22/7 in it. Now check the data type of this variable.\n",
    "pi=22/7\n",
    "print(type(pi))"
   ]
  },
  {
   "cell_type": "code",
   "execution_count": 2,
   "id": "8046ce36-6e5c-4daa-b88f-ae11c16cb81f",
   "metadata": {},
   "outputs": [
    {
     "ename": "SyntaxError",
     "evalue": "invalid syntax (2257245877.py, line 2)",
     "output_type": "error",
     "traceback": [
      "  \u001b[36mCell\u001b[39m\u001b[36m \u001b[39m\u001b[32mIn[2]\u001b[39m\u001b[32m, line 2\u001b[39m\n\u001b[31m    \u001b[39m\u001b[31mfor=4\u001b[39m\n       ^\n\u001b[31mSyntaxError\u001b[39m\u001b[31m:\u001b[39m invalid syntax\n"
     ]
    }
   ],
   "source": [
    "# 2. Create a variable called for and assign it a value 4. See what happens and find out the reason behind the behavior that you see.\n",
    "for=4\n",
    "print(for)"
   ]
  },
  {
   "cell_type": "code",
   "execution_count": 3,
   "id": "136a07aa-8760-4e86-bc18-68edfa200515",
   "metadata": {},
   "outputs": [
    {
     "name": "stdin",
     "output_type": "stream",
     "text": [
      "Enter the principal amount: 5000\n",
      "Enter the rate of interest: 5\n",
      "Enter the time: 2\n"
     ]
    },
    {
     "name": "stdout",
     "output_type": "stream",
     "text": [
      "The simple interest: 500.0\n"
     ]
    }
   ],
   "source": [
    "# 3. Simple Interest\n",
    "P=int(input(\"Enter the principal amount:\"))\n",
    "R=float(input(\"Enter the rate of interest:\"))\n",
    "T=int(input(\"Enter the time:\"))\n",
    "simple_interest=(P*R*T)/100\n",
    "print(\"The simple interest:\",simple_interest)"
   ]
  },
  {
   "cell_type": "code",
   "execution_count": null,
   "id": "8d90c539-feaa-4542-8f24-3d90e568bafd",
   "metadata": {},
   "outputs": [],
   "source": [
    "# 2. NUMBERS"
   ]
  },
  {
   "cell_type": "code",
   "execution_count": 4,
   "id": "445e6432-d4ba-41cf-b303-832dcc8f6e06",
   "metadata": {},
   "outputs": [
    {
     "name": "stdout",
     "output_type": "stream",
     "text": [
      "221\n"
     ]
    }
   ],
   "source": [
    "# 1.Octal Conversion\n",
    "def to_octal(n):\n",
    "    return format(n, 'o')\n",
    "\n",
    "print(to_octal(145))"
   ]
  },
  {
   "cell_type": "code",
   "execution_count": 5,
   "id": "dcd544e2-a818-44c9-8cb2-a4711c8eee62",
   "metadata": {},
   "outputs": [
    {
     "name": "stdout",
     "output_type": "stream",
     "text": [
      "Answer: 31018\n"
     ]
    }
   ],
   "source": [
    "# 2. Water in a pond\n",
    "def water(r):\n",
    "    return int(3.14 * r * r * 1.4)\n",
    "\n",
    "print(\"Answer:\", water(84))"
   ]
  },
  {
   "cell_type": "code",
   "execution_count": 6,
   "id": "13e6cdd2-bafb-4266-9dff-f6cbdab09255",
   "metadata": {},
   "outputs": [
    {
     "name": "stdout",
     "output_type": "stream",
     "text": [
      "Speed:  1\n"
     ]
    }
   ],
   "source": [
    "# 3. Speed Calculation\n",
    "def speed(d, t):\n",
    "    return int(d / (t * 60))\n",
    "\n",
    "print(\"Speed: \",speed(490, 7))"
   ]
  },
  {
   "cell_type": "code",
   "execution_count": 7,
   "id": "6be0ba45-ac2c-4e54-90ed-a257fb1e1a2f",
   "metadata": {},
   "outputs": [],
   "source": [
    "# 3. LISTS"
   ]
  },
  {
   "cell_type": "code",
   "execution_count": 8,
   "id": "5211efe9-c1e1-48c0-8281-3dbb3c46bdab",
   "metadata": {},
   "outputs": [
    {
     "name": "stdout",
     "output_type": "stream",
     "text": [
      "1. Members count: 6\n",
      "2. After adding Batgirl & Nightwing: ['Superman', 'Batman', 'Wonder Woman', 'Flash', 'Aquaman', 'Green Lantern', 'Batgirl', 'Nightwing']\n",
      "3. Wonder Woman moved to front: ['Wonder Woman', 'Superman', 'Batman', 'Flash', 'Aquaman', 'Green Lantern', 'Batgirl', 'Nightwing']\n",
      "4. Conflict separation (Aquaman & Flash): ['Wonder Woman', 'Superman', 'Batman', 'Flash', 'Aquaman', 'Green Lantern', 'Batgirl', 'Nightwing']\n",
      "5. New team assembled: ['Cyborg', 'Shazam', 'Hawkgirl', 'Martian Manhunter', 'Green Arrow']\n",
      "6. Sorted list: ['Cyborg', 'Green Arrow', 'Hawkgirl', 'Martian Manhunter', 'Shazam']\n",
      "New leader: Cyborg\n"
     ]
    }
   ],
   "source": [
    "def justice_league_tasks():\n",
    "    jl = [\"Superman\", \"Batman\", \"Wonder Woman\", \"Flash\", \"Aquaman\", \"Green Lantern\"]\n",
    "    print(\"1. Members count:\", len(jl))\n",
    "\n",
    "    jl += [\"Batgirl\", \"Nightwing\"]\n",
    "    print(\"2. After adding Batgirl & Nightwing:\", jl)\n",
    "\n",
    "    jl.remove(\"Wonder Woman\")\n",
    "    jl.insert(0, \"Wonder Woman\")\n",
    "    print(\"3. Wonder Woman moved to front:\", jl)\n",
    "\n",
    "    a = jl.index(\"Aquaman\")\n",
    "    f = jl.index(\"Flash\")\n",
    "    insert_hero = \"Green Lantern\" if \"Green Lantern\" in jl else \"Superman\"\n",
    "    jl.remove(insert_hero)\n",
    "    jl.insert(f if a < f else a + 1, insert_hero)\n",
    "    print(\"4. Conflict separation (Aquaman & Flash):\", jl)\n",
    "\n",
    "    jl = [\"Cyborg\", \"Shazam\", \"Hawkgirl\", \"Martian Manhunter\", \"Green Arrow\"]\n",
    "    print(\"5. New team assembled:\", jl)\n",
    "\n",
    "    jl.sort()\n",
    "    print(\"6. Sorted list:\", jl)\n",
    "    print(\"New leader:\", jl[0])\n",
    "\n",
    "justice_league_tasks()"
   ]
  },
  {
   "cell_type": "code",
   "execution_count": 9,
   "id": "c36d7110-0cd8-424d-8a35-b730b604ff5f",
   "metadata": {},
   "outputs": [],
   "source": [
    "# 4. IF CONDITION"
   ]
  },
  {
   "cell_type": "code",
   "execution_count": 10,
   "id": "2725ed4a-a164-44f7-b190-1c6f4afe5bbe",
   "metadata": {},
   "outputs": [
    {
     "name": "stdin",
     "output_type": "stream",
     "text": [
      "Enter height in meters:  1.75\n",
      "Enter weight in kilograms:  70\n"
     ]
    },
    {
     "name": "stdout",
     "output_type": "stream",
     "text": [
      "Normal\n"
     ]
    }
   ],
   "source": [
    "# 1. BMI Category\n",
    "def bmi_category():\n",
    "    h = float(input(\"Enter height in meters: \"))\n",
    "    w = float(input(\"Enter weight in kilograms: \"))\n",
    "    bmi = w / (h * h)\n",
    "    if bmi >= 30:\n",
    "        print(\"Obesity\")\n",
    "    elif bmi >= 25:\n",
    "        print(\"Overweight\")\n",
    "    elif bmi >= 18.5:\n",
    "        print(\"Normal\")\n",
    "    else:\n",
    "        print(\"Underweight\")\n",
    "\n",
    "bmi_category()"
   ]
  },
  {
   "cell_type": "code",
   "execution_count": 11,
   "id": "964bd840-4321-4c69-9a8d-117952fe5e00",
   "metadata": {},
   "outputs": [
    {
     "name": "stdin",
     "output_type": "stream",
     "text": [
      "Enter a city name:  Bangalore\n"
     ]
    },
    {
     "name": "stdout",
     "output_type": "stream",
     "text": [
      "Bangalore is in India\n"
     ]
    }
   ],
   "source": [
    "# 2. Country and cities\n",
    "def find_country():\n",
    "    a = [\"Sydney\", \"Melbourne\", \"Brisbane\", \"Perth\"]\n",
    "    u = [\"Dubai\", \"Abu Dhabi\", \"Sharjah\", \"Ajman\"]\n",
    "    i = [\"Mumbai\", \"Bangalore\", \"Chennai\", \"Delhi\"]\n",
    "    city = input(\"Enter a city name: \")\n",
    "    if city in a:\n",
    "        print(f\"{city} is in Australia\")\n",
    "    elif city in u:\n",
    "        print(f\"{city} is in UAE\")\n",
    "    elif city in i:\n",
    "        print(f\"{city} is in India\")\n",
    "    else:\n",
    "        print(\"City not found\")\n",
    "\n",
    "find_country()"
   ]
  },
  {
   "cell_type": "code",
   "execution_count": 13,
   "id": "b5cb38a6-b8df-4773-86e5-f4e10eb64b3c",
   "metadata": {},
   "outputs": [
    {
     "name": "stdin",
     "output_type": "stream",
     "text": [
      "First city:  Sydney\n",
      "Second city:  Chennai\n"
     ]
    },
    {
     "name": "stdout",
     "output_type": "stream",
     "text": [
      "Different countries\n"
     ]
    }
   ],
   "source": [
    "# (3) Check of relation between Cities and count\n",
    "def same_country():\n",
    "    c1 = input(\"First city: \")\n",
    "    c2 = input(\"Second city: \")\n",
    "    a = [\"Sydney\",\"Melbourne\",\"Brisbane\",\"Perth\"]\n",
    "    u = [\"Dubai\",\"Abu Dhabi\",\"Sharjah\",\"Ajman\"]\n",
    "    i = [\"Mumbai\",\"Bangalore\",\"Chennai\",\"Delhi\"]\n",
    "    if c1 in a and c2 in a: print(\"Both in Australia\")\n",
    "    elif c1 in u and c2 in u: print(\"Both in UAE\")\n",
    "    elif c1 in i and c2 in i: print(\"Both in India\")\n",
    "    else: print(\"Different countries\")\n",
    "\n",
    "same_country()"
   ]
  },
  {
   "cell_type": "code",
   "execution_count": null,
   "id": "3ddb64cf-ebc0-4ee4-b26c-96d6c2f7c781",
   "metadata": {},
   "outputs": [],
   "source": [
    "# 5. For Loop"
   ]
  },
  {
   "cell_type": "code",
   "execution_count": 15,
   "id": "48bd9106-c849-4256-84fa-c2cca4394674",
   "metadata": {},
   "outputs": [
    {
     "name": "stdout",
     "output_type": "stream",
     "text": [
      "Rolls: [2, 5, 4, 4, 3, 5, 1, 6, 3, 1, 2, 3, 3, 6, 2, 4, 2, 1, 1, 4]\n",
      "6s: 2 | 1s: 4 | Two 6s in a row: 0\n"
     ]
    }
   ],
   "source": [
    "# 1. Die\n",
    "import random\n",
    "\n",
    "def roll_stats():\n",
    "    rolls = [random.randint(1, 6) for _ in range(20)]\n",
    "    print(\"Rolls:\", rolls)\n",
    "    s = rolls.count(6)\n",
    "    o = rolls.count(1)\n",
    "    r = sum(1 for i in range(len(rolls)-1) if rolls[i] == 6 and rolls[i+1] == 6)\n",
    "    print(\"6s:\", s, \"| 1s:\", o, \"| Two 6s in a row:\", r)\n",
    "\n",
    "roll_stats()"
   ]
  },
  {
   "cell_type": "code",
   "execution_count": 16,
   "id": "814de0e4-3d01-4fa1-b802-c0e170377b45",
   "metadata": {},
   "outputs": [
    {
     "name": "stdout",
     "output_type": "stream",
     "text": [
      "10 done\n"
     ]
    },
    {
     "name": "stdin",
     "output_type": "stream",
     "text": [
      "Tired?  yes\n",
      "Skip rest?  yes\n"
     ]
    },
    {
     "name": "stdout",
     "output_type": "stream",
     "text": [
      "Total: 10\n"
     ]
    }
   ],
   "source": [
    "# 2. Workout Routine\n",
    "def workout():\n",
    "    done = 0\n",
    "    while done < 100:\n",
    "        done += 10\n",
    "        print(f\"{done} done\")\n",
    "        if input(\"Tired? \").lower() in [\"y\", \"yes\"]:\n",
    "            if input(\"Skip rest? \").lower() in [\"y\", \"yes\"]:\n",
    "                print(f\"Total: {done}\")\n",
    "                break\n",
    "    else:\n",
    "        print(\"Congrats! Workout complete\")\n",
    "\n",
    "workout()"
   ]
  },
  {
   "cell_type": "code",
   "execution_count": 17,
   "id": "00b78fd5-37e6-4168-9b7e-867b248e0ca8",
   "metadata": {},
   "outputs": [],
   "source": [
    "# 6. Dictionary"
   ]
  },
  {
   "cell_type": "code",
   "execution_count": 18,
   "id": "ab37bea6-d91c-4369-a8ca-9d984aa9bc1b",
   "metadata": {},
   "outputs": [
    {
     "name": "stdout",
     "output_type": "stream",
     "text": [
      "[('Aditya', 6), ('Sneha', 5), ('Kiran', 5), ('Megha', 5), ('Ravi', 4)]\n"
     ]
    }
   ],
   "source": [
    "# 1. Friend's Name and lenght of tuple\n",
    "def name_lengths():\n",
    "    f = [\"Aditya\", \"Sneha\", \"Kiran\", \"Megha\", \"Ravi\"]\n",
    "    print([(x, len(x)) for x in f])\n",
    "\n",
    "name_lengths()"
   ]
  },
  {
   "cell_type": "code",
   "execution_count": 19,
   "id": "024eff89-1126-44f8-aef1-b4f16156839d",
   "metadata": {},
   "outputs": [
    {
     "name": "stdout",
     "output_type": "stream",
     "text": [
      "You: 3000 | Partner: 3050\n",
      "Partner spent more\n",
      "Big difference: Hotel 200\n"
     ]
    }
   ],
   "source": [
    "# 2. Partner Trip Expenses\n",
    "def trip():\n",
    "    y = {\"Hotel\":1200,\"Food\":800,\"Trans\":500,\"Attract\":300,\"Misc\":200}\n",
    "    p = {\"Hotel\":1000,\"Food\":900,\"Trans\":600,\"Attract\":400,\"Misc\":150}\n",
    "    yt, pt = sum(y.values()), sum(p.values())\n",
    "    print(\"You:\", yt, \"| Partner:\", pt)\n",
    "    print(\"You spent more\" if yt > pt else \"Partner spent more\" if pt > yt else \"Equal\")\n",
    "    d = {k: abs(y[k]-p[k]) for k in y}\n",
    "    m = max(d, key=d.get)\n",
    "    print(\"Big difference:\", m, d[m])\n",
    "\n",
    "trip()"
   ]
  },
  {
   "cell_type": "code",
   "execution_count": 20,
   "id": "c52083ec-cb9a-497d-8329-b8388d106fc7",
   "metadata": {},
   "outputs": [],
   "source": [
    "# 8. Classes and Objects"
   ]
  },
  {
   "cell_type": "code",
   "execution_count": 21,
   "id": "fa71d4ac-da8f-47b6-a553-e54daa5548db",
   "metadata": {},
   "outputs": [
    {
     "name": "stdout",
     "output_type": "stream",
     "text": [
      "Captain America | Super Strength | Shield\n",
      "Leader: Yes\n",
      "Iron Man | Technology | Armor\n",
      "Leader: No\n",
      "Black Widow | Superhuman | Batons\n",
      "Leader: No\n",
      "Hulk | Unlimited Strength | No Weapon\n",
      "Leader: No\n",
      "Thor | Super Energy | Mjölnir\n",
      "Leader: No\n",
      "Hawkeye | Fighting Skills | Bow and Arrows\n",
      "Leader: No\n"
     ]
    }
   ],
   "source": [
    "class Avenger:\n",
    "    def __init__(s,n,a,g,p,w): s.n=n; s.a=a; s.g=g; s.p=p; s.w=w\n",
    "    def info(s): print(f\"{s.n} | {s.p} | {s.w}\")\n",
    "    def is_leader(s): return s.n==\"Captain America\"\n",
    "\n",
    "def show():\n",
    "    h=[\n",
    "        Avenger(\"Captain America\",100,\"M\",\"Super Strength\",\"Shield\"),\n",
    "        Avenger(\"Iron Man\",48,\"M\",\"Technology\",\"Armor\"),\n",
    "        Avenger(\"Black Widow\",35,\"F\",\"Superhuman\",\"Batons\"),\n",
    "        Avenger(\"Hulk\",49,\"M\",\"Unlimited Strength\",\"No Weapon\"),\n",
    "        Avenger(\"Thor\",1500,\"M\",\"Super Energy\",\"Mjölnir\"),\n",
    "        Avenger(\"Hawkeye\",41,\"M\",\"Fighting Skills\",\"Bow and Arrows\")\n",
    "    ]\n",
    "    for x in h:\n",
    "        x.info()\n",
    "        print(\"Leader:\", \"Yes\" if x.is_leader() else \"No\")\n",
    "\n",
    "show()"
   ]
  },
  {
   "cell_type": "code",
   "execution_count": 22,
   "id": "5c5f6dfb-35db-4c27-8fbc-0f3099d141e9",
   "metadata": {},
   "outputs": [],
   "source": [
    "# 9. Inheritance"
   ]
  },
  {
   "cell_type": "code",
   "execution_count": 23,
   "id": "e00449f7-57d2-4934-80e2-591bac3c7a55",
   "metadata": {},
   "outputs": [
    {
     "name": "stdout",
     "output_type": "stream",
     "text": [
      "1. iPhone 12 | 4GB RAM | 64GB Storage\n",
      "2. iPhone 12 is calling...\n",
      "3. iPhone 12 photo with 12MP / 48MP\n",
      "\n",
      "1. Galaxy S21 | 4GB RAM | 64GB Storage\n",
      "2. Galaxy S21 is calling...\n",
      "3. Galaxy S21 photo with 16MP / 48MP\n",
      "\n"
     ]
    }
   ],
   "source": [
    "class Mobile:\n",
    "    def __init__(s, m, f, r, ram, sto): s.m=m; s.f=f; s.r=r; s.ram=ram; s.sto=sto\n",
    "    def call(s): print(\"2.\", s.m, \"is calling...\")\n",
    "    def pic(s): print(\"3.\", s.m, \"photo with\", s.f, \"/\", s.r)\n",
    "    def info(s): print(\"1.\", s.m, \"|\", s.ram, \"RAM |\", s.sto, \"Storage\")\n",
    "\n",
    "class Apple(Mobile): pass\n",
    "class Samsung(Mobile): pass\n",
    "\n",
    "a1 = Apple(\"iPhone 12\", \"12MP\", \"48MP\", \"4GB\", \"64GB\")\n",
    "s1 = Samsung(\"Galaxy S21\", \"16MP\", \"48MP\", \"4GB\", \"64GB\")\n",
    "\n",
    "for p in [a1, s1]: p.info(); p.call(); p.pic(); print()"
   ]
  }
 ],
 "metadata": {
  "kernelspec": {
   "display_name": "Python 3 (ipykernel)",
   "language": "python",
   "name": "python3"
  },
  "language_info": {
   "codemirror_mode": {
    "name": "ipython",
    "version": 3
   },
   "file_extension": ".py",
   "mimetype": "text/x-python",
   "name": "python",
   "nbconvert_exporter": "python",
   "pygments_lexer": "ipython3",
   "version": "3.11.9"
  }
 },
 "nbformat": 4,
 "nbformat_minor": 5
}
